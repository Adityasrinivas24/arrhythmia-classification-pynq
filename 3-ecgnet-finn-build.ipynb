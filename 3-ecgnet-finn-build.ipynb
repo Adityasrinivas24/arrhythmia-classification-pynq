{
 "cells": [
  {
   "cell_type": "code",
   "execution_count": null,
   "id": "25eff6db-ed4c-403d-b144-9ed4513c38cb",
   "metadata": {},
   "outputs": [],
   "source": [
    "import torch\n",
    "\n",
    "device = torch.device(\"cuda\" if torch.cuda.is_available() else \"cpu\")\n",
    "print(f\"Using device: {device}\")\n",
    "print(torch.cuda.get_arch_list())\n",
    "\n",
    "print(f\"Is CUDA supported by this system?{torch.cuda.is_available()}\")\n",
    "print(f\"CUDA version: {torch.version.cuda}\")\n",
    " \n",
    "# Storing ID of current CUDA device\n",
    "cuda_id = torch.cuda.current_device()\n",
    "print(f\"ID of current CUDA device:{torch.cuda.current_device()}\")\n",
    "       \n",
    "print(f\"Name of current CUDA device:{torch.cuda.get_device_name(cuda_id)}\")"
   ]
  },
  {
   "cell_type": "code",
   "execution_count": null,
   "id": "fa502af0-b07a-4d90-a68f-c625e859e522",
   "metadata": {},
   "outputs": [],
   "source": [
    "# print the names of the supported PYNQ boards\n",
    "from finn.util.basic import pynq_part_map\n",
    "print(pynq_part_map.keys())"
   ]
  },
  {
   "cell_type": "code",
   "execution_count": null,
   "id": "2ad1fbdb-4be0-4285-92bd-4d1a3a4dccf9",
   "metadata": {},
   "outputs": [],
   "source": [
    "# change this if you have a different PYNQ board, see list above\n",
    "pynq_board = \"Pynq-Z2\"\n",
    "fpga_part = pynq_part_map[pynq_board]\n",
    "target_clk_ns = 10"
   ]
  },
  {
   "cell_type": "code",
   "execution_count": null,
   "id": "78c693f3-2a3d-40b5-9acd-427f8175ca34",
   "metadata": {},
   "outputs": [],
   "source": [
    "from finn.transformation.fpgadataflow.make_zynq_proj import ZynqBuild\n",
    "model = ModelWrapper(\"onnx_models/mobilenetv2_w4a4_set_folding_factors.onnx\")  # \n",
    "model = model.transform(ZynqBuild(platform = pynq_board, period_ns = target_clk_ns))"
   ]
  },
  {
   "cell_type": "code",
   "execution_count": null,
   "id": "a23fb16f-9fed-4256-b11a-02949fc969cf",
   "metadata": {},
   "outputs": [],
   "source": [
    "from finn.transformation.fpgadataflow.make_pynq_driver import MakePYNQDriver\n",
    "model = model.transform(MakePYNQDriver(\"zynq-iodma\"))"
   ]
  },
  {
   "cell_type": "code",
   "execution_count": null,
   "id": "283f22de-7790-4078-aecb-2e5df89e3b30",
   "metadata": {},
   "outputs": [],
   "source": [
    "model.save(\"onnx_models/mobilenetv2_w4a4_post_synthesis.onnx\")"
   ]
  },
  {
   "cell_type": "code",
   "execution_count": null,
   "id": "3cb31b31-1279-4d3d-8726-fd0837914d51",
   "metadata": {},
   "outputs": [],
   "source": [
    "showInNetron(\"onnx_models/mobilenetv2_w4a4_post_synthesis.onnx\")"
   ]
  },
  {
   "cell_type": "code",
   "execution_count": null,
   "id": "794db6f9-e1b4-46b6-888e-f1e6dfe77922",
   "metadata": {},
   "outputs": [],
   "source": [
    "model = ModelWrapper(\"onnx_models/mobilenetv2_w4a4_post_synthesis.onnx\")\n",
    "sdp_node_middle = getCustomOp(model.graph.node[1])\n",
    "postsynth_layers = sdp_node_middle.get_nodeattr(\"model\")\n",
    "\n",
    "showInNetron(postsynth_layers)"
   ]
  },
  {
   "cell_type": "code",
   "execution_count": null,
   "id": "dddf5dea-c9e9-4102-9078-597056781bd8",
   "metadata": {},
   "outputs": [],
   "source": [
    "model = ModelWrapper(postsynth_layers)\n",
    "model.model.metadata_props"
   ]
  },
  {
   "cell_type": "code",
   "execution_count": null,
   "id": "d5052b66-6fa9-4cd6-8d91-dbafd92d5196",
   "metadata": {},
   "outputs": [],
   "source": [
    "model = ModelWrapper(\"onnx_models/mobilenetv2_w4a4_post_synthesis.onnx\")\n",
    "model.model.metadata_props"
   ]
  },
  {
   "cell_type": "code",
   "execution_count": null,
   "id": "6530344c-e0bd-47b4-a6e8-54aa74947e83",
   "metadata": {},
   "outputs": [],
   "source": [
    "! ls {model.get_metadata_prop(\"vivado_pynq_proj\")}"
   ]
  },
  {
   "cell_type": "code",
   "execution_count": null,
   "id": "bbe8c82e-0ef9-45a6-8561-d7e8f2071a9a",
   "metadata": {},
   "outputs": [],
   "source": []
  }
 ],
 "metadata": {
  "kernelspec": {
   "display_name": "Python 3 (ipykernel)",
   "language": "python",
   "name": "python3"
  },
  "language_info": {
   "codemirror_mode": {
    "name": "ipython",
    "version": 3
   },
   "file_extension": ".py",
   "mimetype": "text/x-python",
   "name": "python",
   "nbconvert_exporter": "python",
   "pygments_lexer": "ipython3",
   "version": "3.10.11"
  }
 },
 "nbformat": 4,
 "nbformat_minor": 5
}
