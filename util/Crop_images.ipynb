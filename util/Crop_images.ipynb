{
 "cells": [
  {
   "cell_type": "code",
   "execution_count": 4,
   "id": "25e9d82e-87c0-487d-9021-2b67a6840b2d",
   "metadata": {},
   "outputs": [
    {
     "name": "stdout",
     "output_type": "stream",
     "text": [
      "Image cropping completed.\n"
     ]
    }
   ],
   "source": [
    "import os\n",
    "from PIL import Image\n",
    "\n",
    "def crop_images_in_folder(input_folder, output_folder, target_width, target_height):\n",
    "    if not os.path.exists(output_folder):\n",
    "        os.makedirs(output_folder)\n",
    "\n",
    "    for root, _, files in os.walk(input_folder):\n",
    "        for file in files:\n",
    "            # Check if file is an image\n",
    "            if file.endswith(('.jpg', '.jpeg', '.png', '.bmp')):\n",
    "                input_path = os.path.join(root, file)\n",
    "                output_path = os.path.join(output_folder, file)\n",
    "                \n",
    "                # Open the image\n",
    "                with Image.open(input_path) as img:\n",
    "                    # Get the dimensions of the image\n",
    "                    width, height = img.size\n",
    "                    \n",
    "                    # Calculate the coordinates for cropping\n",
    "                    left = (width - target_width) // 2\n",
    "                    top = (height - target_height) // 2\n",
    "                    right = (width + target_width) // 2\n",
    "                    bottom = (height + target_height) // 2\n",
    "                    \n",
    "                    # Crop the image\n",
    "                    cropped_img = img.crop((left, top, right, bottom))\n",
    "                    \n",
    "                    # Save the cropped image\n",
    "                    cropped_img.save(output_path)\n",
    "\n",
    "# Define the input and output folders\n",
    "input_top_folder = 'New_Dataset'\n",
    "output_top_folder = 'Cropped_Dataset'\n",
    "target_width = 600\n",
    "target_height = 440\n",
    "\n",
    "# Crop images in train folder\n",
    "crop_images_in_folder(os.path.join(input_top_folder, 'train'), \n",
    "                      os.path.join(output_top_folder, 'train'),\n",
    "                      target_width, target_height)\n",
    "\n",
    "# Crop images in test folder\n",
    "crop_images_in_folder(os.path.join(input_top_folder, 'test'), \n",
    "                      os.path.join(output_top_folder, 'test'),\n",
    "                      target_width, target_height)\n",
    "\n",
    "print(\"Image cropping completed.\")\n"
   ]
  },
  {
   "cell_type": "code",
   "execution_count": null,
   "id": "448103da-a9dd-4b9d-b4b1-9884c200be30",
   "metadata": {},
   "outputs": [],
   "source": []
  }
 ],
 "metadata": {
  "kernelspec": {
   "display_name": "Python 3 (ipykernel)",
   "language": "python",
   "name": "python3"
  },
  "language_info": {
   "codemirror_mode": {
    "name": "ipython",
    "version": 3
   },
   "file_extension": ".py",
   "mimetype": "text/x-python",
   "name": "python",
   "nbconvert_exporter": "python",
   "pygments_lexer": "ipython3",
   "version": "3.10.11"
  }
 },
 "nbformat": 4,
 "nbformat_minor": 5
}
