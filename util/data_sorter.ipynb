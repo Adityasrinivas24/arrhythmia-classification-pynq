{
 "cells": [
  {
   "cell_type": "code",
   "execution_count": 2,
   "id": "11f04912-664b-458b-b184-8ba5663ca8d0",
   "metadata": {},
   "outputs": [
    {
     "ename": "SyntaxError",
     "evalue": "unterminated string literal (detected at line 6) (638321497.py, line 6)",
     "output_type": "error",
     "traceback": [
      "\u001b[0;36m  Cell \u001b[0;32mIn[2], line 6\u001b[0;36m\u001b[0m\n\u001b[0;31m    data_dir = \"C:\\Users\\asrin\\Desktop\\ECG-Scalograms-Data\\ecgdataset\\\"\u001b[0m\n\u001b[0m               ^\u001b[0m\n\u001b[0;31mSyntaxError\u001b[0m\u001b[0;31m:\u001b[0m unterminated string literal (detected at line 6)\n"
     ]
    }
   ],
   "source": [
    "import os\n",
    "import random\n",
    "import shutil\n",
    "\n",
    "# Define directories\n",
    "data_dir = \"./ecgdataset-train-test\"\n",
    "train_dir = os.path.join(data_dir, \"train\")\n",
    "test_dir = os.path.join(data_dir, \"test\")\n",
    "\n",
    "# Create train and test directories if they don't exist\n",
    "os.makedirs(train_dir, exist_ok=True)\n",
    "os.makedirs(test_dir, exist_ok=True)\n",
    "\n",
    "# Define classes (folder names)\n",
    "classes = [\"arr\", \"nsr\"]\n",
    "\n",
    "# Define train ratio\n",
    "train_ratio = 0.6\n",
    "\n",
    "# Move images to train and test directories\n",
    "for cls in classes:\n",
    "    cls_dir = os.path.join(data_dir, cls)\n",
    "    filenames = os.listdir(cls_dir)\n",
    "    random.shuffle(filenames)\n",
    "    num_train = int(train_ratio * len(filenames))\n",
    "    \n",
    "    # Move images to train directory\n",
    "    for filename in filenames[:num_train]:\n",
    "        src = os.path.join(cls_dir, filename)\n",
    "        dst = os.path.join(train_dir, cls, filename)\n",
    "        os.makedirs(os.path.join(train_dir, cls), exist_ok=True)\n",
    "        shutil.copy(src, dst)\n",
    "    \n",
    "    # Move images to test directory\n",
    "    for filename in filenames[num_train:]:\n",
    "        src = os.path.join(cls_dir, filename)\n",
    "        dst = os.path.join(test_dir, cls, filename)\n",
    "        os.makedirs(os.path.join(test_dir, cls), exist_ok=True)\n",
    "        shutil.copy(src, dst)\n",
    "\n",
    "# Now, train_dir and test_dir contain the randomly split train and test datasets"
   ]
  },
  {
   "cell_type": "code",
   "execution_count": null,
   "id": "aa86ecbd-b100-4463-9a31-40dd212cad84",
   "metadata": {},
   "outputs": [],
   "source": []
  },
  {
   "cell_type": "code",
   "execution_count": null,
   "id": "9422fe86-4ac2-4e89-9f16-33eba0a23558",
   "metadata": {},
   "outputs": [],
   "source": []
  },
  {
   "cell_type": "code",
   "execution_count": null,
   "id": "86b97129-79b0-46d6-bc5e-51657b4f08b9",
   "metadata": {},
   "outputs": [],
   "source": []
  }
 ],
 "metadata": {
  "kernelspec": {
   "display_name": "Python 3 (ipykernel)",
   "language": "python",
   "name": "python3"
  },
  "language_info": {
   "codemirror_mode": {
    "name": "ipython",
    "version": 3
   },
   "file_extension": ".py",
   "mimetype": "text/x-python",
   "name": "python",
   "nbconvert_exporter": "python",
   "pygments_lexer": "ipython3",
   "version": "3.10.12"
  }
 },
 "nbformat": 4,
 "nbformat_minor": 5
}
