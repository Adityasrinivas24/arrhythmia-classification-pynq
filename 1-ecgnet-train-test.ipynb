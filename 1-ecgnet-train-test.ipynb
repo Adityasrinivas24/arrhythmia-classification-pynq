{
 "cells": [
  {
   "cell_type": "code",
   "execution_count": null,
   "id": "c20ad946-d13a-4bf6-9b39-b1a7b1cbcea6",
   "metadata": {},
   "outputs": [],
   "source": [
    "import torch\n",
    "\n",
    "device = torch.device(\"cuda\" if torch.cuda.is_available() else \"cpu\")\n",
    "print(f\"Using device: {device}\")\n",
    "print(torch.cuda.get_arch_list())\n",
    "\n",
    "print(f\"Is CUDA supported by this system?{torch.cuda.is_available()}\")\n",
    "print(f\"CUDA version: {torch.version.cuda}\")\n",
    " \n",
    "# Storing ID of current CUDA device\n",
    "cuda_id = torch.cuda.current_device()\n",
    "print(f\"ID of current CUDA device:{torch.cuda.current_device()}\")\n",
    "       \n",
    "print(f\"Name of current CUDA device:{torch.cuda.get_device_name(cuda_id)}\")"
   ]
  },
  {
   "cell_type": "code",
   "execution_count": null,
   "id": "8400c13c-7fb9-4687-8e16-dd24385653a5",
   "metadata": {},
   "outputs": [],
   "source": [
    "print(torch.cuda.memory_summary(device=None, abbreviated=False))"
   ]
  },
  {
   "cell_type": "code",
   "execution_count": null,
   "id": "17050c3e-d358-43b5-8fa9-3dcd36b2949c",
   "metadata": {},
   "outputs": [],
   "source": [
    "import torch\n",
    "torch.cuda.empty_cache()"
   ]
  },
  {
   "cell_type": "markdown",
   "id": "cf75cfb5-aab4-4e16-81f7-2805f196ab48",
   "metadata": {},
   "source": [
    "## Software Implementation of ECGNet"
   ]
  },
  {
   "cell_type": "code",
   "execution_count": 1,
   "id": "f67e823b-4e59-403b-b394-52792133420b",
   "metadata": {},
   "outputs": [],
   "source": [
    "import onnx\n",
    "import torch\n",
    "import torch.nn as nn\n",
    "import torchvision\n",
    "import torchvision.transforms as transforms\n",
    "from torch.utils.data import DataLoader, Dataset\n",
    "from sklearn.metrics import confusion_matrix\n",
    "from torch.optim.lr_scheduler import CosineAnnealingWarmRestarts\n",
    "import numpy as np\n",
    "import matplotlib.pyplot as plt\n",
    "import itertools\n",
    "import os\n",
    "from PIL import Image\n",
    "from torch import optim\n",
    "from tqdm import tqdm\n",
    "import netron\n",
    "import time\n",
    "from IPython.display import IFrame\n",
    "\n",
    "\n",
    "class CustomDataset(Dataset):\n",
    "    def __init__(self, root_dir):\n",
    "        self.root_dir = root_dir\n",
    "        self.samples = []\n",
    "        self.labels = []\n",
    "        for label in os.listdir(root_dir):\n",
    "            label_dir = os.path.join(root_dir, label)\n",
    "            for file in os.listdir(label_dir):\n",
    "                file_path = os.path.join(label_dir, file)\n",
    "                self.samples.append(file_path)\n",
    "                self.labels.append(int(label))\n",
    "\n",
    "    def __len__(self):\n",
    "        return len(self.samples)\n",
    "\n",
    "    def __getitem__(self, idx):\n",
    "        sample = np.load(self.samples[idx])\n",
    "        sample = np.squeeze(sample)  \n",
    "        sample = np.expand_dims(sample, axis=0)  \n",
    "        sample = np.expand_dims(sample, axis=0) \n",
    "        sample = torch.from_numpy(sample).float()\n",
    "        label = self.labels[idx]\n",
    "        return sample, label\n",
    "\n",
    "# Load training data\n",
    "train_data = CustomDataset(root_dir='datasets/ecgdata/train_data')\n",
    "# Load testing data\n",
    "test_data = CustomDataset(root_dir='datasets/ecgdata/test_data')\n",
    "\n",
    "# Create data loaders\n",
    "train_loader = DataLoader(train_data, batch_size=32, shuffle=True)\n",
    "test_loader = DataLoader(test_data, batch_size=32, shuffle=False)\n",
    "\n",
    "def show_netron(model_path, port):\n",
    "    time.sleep(3.)\n",
    "    netron.start(model_path, address=(\"localhost\", port), browse=False)\n",
    "    return IFrame(src=f\"http://localhost:{port}/\", width=\"100%\", height=400)\n"
   ]
  },
  {
   "cell_type": "markdown",
   "id": "7f88227b-dc6b-4728-bfe6-f8b4f5cf1b84",
   "metadata": {},
   "source": [
    "## Define Quantized Model in Brevitas "
   ]
  },
  {
   "cell_type": "code",
   "execution_count": 2,
   "id": "ec34be85-1e22-4e5d-96c2-ef544e6f4f11",
   "metadata": {},
   "outputs": [],
   "source": [
    "import torch.nn as nn\n",
    "import torch.nn.functional as F\n",
    "import brevitas.nn as qnn\n",
    "import numpy as np\n",
    "\n",
    "class ECGNet(nn.Module):\n",
    "    def __init__(self, num_classes=2):\n",
    "        super().__init__()\n",
    "        myWeight_bit_width = 4\n",
    "        self.features = nn.Sequential(\n",
    "            qnn.QuantIdentity(),\n",
    "\n",
    "            qnn.QuantConv2d(1, 16, kernel_size=(1, 5),\n",
    "                            weight_bit_width=myWeight_bit_width),\n",
    "            qnn.QuantReLU(inplace=True, weight_bit_width=myWeight_bit_width),\n",
    "            qnn.QuantConv2d(16, 32, kernel_size=(1, 5),\n",
    "                            weight_bit_width=myWeight_bit_width),\n",
    "            qnn.QuantReLU(inplace=True, weight_bit_width=myWeight_bit_width),\n",
    "            nn.MaxPool2d(kernel_size=(1, 4), stride=(1, 4)),\n",
    "\n",
    "            qnn.QuantConv2d(32, 16, kernel_size=(1, 3),\n",
    "                            weight_bit_width=myWeight_bit_width),\n",
    "            qnn.QuantReLU(inplace=True, weight_bit_width=myWeight_bit_width),\n",
    "            qnn.QuantConv2d(16, 16, kernel_size=(1, 3),\n",
    "                            weight_bit_width=myWeight_bit_width),\n",
    "            qnn.QuantReLU(inplace=True, weight_bit_width=myWeight_bit_width),\n",
    "            nn.MaxPool2d(kernel_size=(1, 2), stride=(1, 2)),\n",
    "        )\n",
    "\n",
    "        self.classifier = nn.Sequential(\n",
    "            qnn.QuantLinear(16 * 13, num_classes, bias=True,\n",
    "                            weight_bit_width=myWeight_bit_width),\n",
    "        )\n",
    "\n",
    "    def forward(self, x):\n",
    "        x = self.features(x)\n",
    "        x = x.reshape(x.shape[0], -1)\n",
    "        x = self.classifier(x)\n",
    "        return x"
   ]
  },
  {
   "cell_type": "markdown",
   "id": "99056333-64f2-44b6-95e1-3439617a52e1",
   "metadata": {},
   "source": [
    "## Train Loop"
   ]
  },
  {
   "cell_type": "code",
   "execution_count": null,
   "id": "b2aa4e34-c366-49ac-aa3d-e7c77a2969e8",
   "metadata": {},
   "outputs": [],
   "source": [
    "device = torch.device(\"cuda\" if torch.cuda.is_available() else \"cpu\")\n",
    "print(device)\n",
    "torch.manual_seed(876)\n",
    "np.random.seed(0)\n",
    "\n",
    "model = ECGNet()\n",
    "\n",
    "model.to(device)\n"
   ]
  },
  {
   "cell_type": "code",
   "execution_count": null,
   "id": "1e09db47-ad02-49d3-afac-f52f0af04911",
   "metadata": {},
   "outputs": [],
   "source": [
    "# Number of epochs\n",
    "num_epochs = 20\n",
    "# Loss criterion and optimizer\n",
    "\n",
    "criterion = nn.CrossEntropyLoss()\n",
    "if torch.cuda.is_available():\n",
    "    criterion = criterion.cuda()\n",
    "\n",
    "optimizer = optim.SGD(model.parameters(), lr=1e-2, momentum=0.9)\n",
    "lr_scheduler = CosineAnnealingWarmRestarts(optimizer, T_0=5, T_mult=1)\n",
    "\n",
    "\n",
    "train_losses = []\n",
    "test_losses = []\n",
    "test_accuracies = []\n",
    "\n",
    "for epoch in range(num_epochs):\n",
    "    model.train()\n",
    "    train_running_loss = 0.0\n",
    "    correct_train = 0\n",
    "    total_train = 0\n",
    "\n",
    "    train_progress_bar = tqdm(train_loader, desc=f'Epoch {epoch+1}/{num_epochs} Training', leave=True)\n",
    "    for images, labels in train_progress_bar:\n",
    "        images, labels = images.to(device), labels.to(device)\n",
    "        # Forward pass\n",
    "        optimizer.zero_grad()\n",
    "        outputs = model(images)\n",
    "        # Backward pass + run optimizer to update weights\n",
    "        loss = criterion(outputs, labels)\n",
    "        loss.backward()\n",
    "        optimizer.step()\n",
    "        # Keep track of loss value\n",
    "        train_running_loss += loss.item()\n",
    "\n",
    "        pred = torch.argmax(outputs, dim=1)\n",
    "        total_train += labels.size(0)\n",
    "        correct_train += (pred == labels).sum().item()\n",
    "\n",
    "        train_progress_bar.set_postfix(loss=f'{train_running_loss/(len(train_progress_bar)):.4f}')\n",
    "\n",
    "    train_loss_avg = train_running_loss / len(train_loader)\n",
    "    train_losses.append(train_loss_avg)\n",
    "    print(f'Epoch [{epoch+1}/{num_epochs}], Training Loss: {train_loss_avg:.4f}')\n",
    "\n",
    "    # Testing phase\n",
    "    model.eval()\n",
    "    test_running_loss = 0.0\n",
    "    correct_test = 0\n",
    "    total_test = 0\n",
    "\n",
    "    test_progress_bar = tqdm(test_loader, desc=f'Epoch {epoch+1}/{num_epochs} Validation', leave=True)\n",
    "\n",
    "    with torch.no_grad():\n",
    "        for images, labels in test_progress_bar:\n",
    "            images, labels = images.to(device), labels.to(device)\n",
    "            outputs = model(images)\n",
    "            loss = criterion(outputs, labels)\n",
    "\n",
    "            test_running_loss += loss.item()\n",
    "\n",
    "            predicted = torch.argmax(outputs, dim=1)\n",
    "\n",
    "            total_test += labels.size(0)\n",
    "            correct_test += (predicted == labels).sum().item()\n",
    "\n",
    "            test_progress_bar.set_postfix(val_loss=f'{test_running_loss/(len(test_progress_bar)):.4f}')\n",
    "\n",
    "    test_loss_avg = test_running_loss / len(test_loader)\n",
    "    test_losses.append(test_loss_avg)\n",
    "    test_accuracy = correct_test / total_test\n",
    "    test_accuracies.append(test_accuracy)\n",
    "    lr_scheduler.step()\n",
    "\n",
    "    print(f'Epoch [{epoch+1}/{num_epochs}], Validation Loss: {test_loss_avg:.4f}, Validation Accuracy: {test_accuracy:.4f}')\n",
    "\n",
    "print(\"Training Finished!\")\n"
   ]
  },
  {
   "cell_type": "markdown",
   "id": "f6aa8c75-3765-44bd-9875-ffa69a489cdb",
   "metadata": {},
   "source": [
    "## Plot train and test curves"
   ]
  },
  {
   "cell_type": "code",
   "execution_count": null,
   "id": "b7e2659c-99ff-4f08-a13d-1f7e4a471899",
   "metadata": {},
   "outputs": [],
   "source": [
    "import matplotlib.pyplot as plt\n",
    "\n",
    "# training and test loss\n",
    "plt.figure(figsize=(10, 5))\n",
    "plt.plot(range(1, num_epochs + 1), train_losses, label='Training Loss')\n",
    "plt.plot(range(1, num_epochs + 1), test_losses, label='Test Loss')\n",
    "plt.xlabel('Epoch')\n",
    "plt.ylabel('Loss')\n",
    "plt.title('Training and Test Loss over Epochs')\n",
    "plt.legend()\n",
    "plt.grid(True)\n",
    "plt.show()\n",
    "\n",
    "# training and test accuracy\n",
    "plt.figure(figsize=(10, 5))\n",
    "plt.plot(range(1, num_epochs + 1), test_accuracies, label='Test Accuracy')\n",
    "plt.xlabel('Epoch')\n",
    "plt.ylabel('Accuracy')\n",
    "plt.title('Training and Test Accuracy over Epochs')\n",
    "plt.legend()\n",
    "plt.grid(True)\n",
    "plt.show()\n"
   ]
  },
  {
   "cell_type": "code",
   "execution_count": null,
   "id": "caac57a5-538e-4154-b8f7-fc482bebd46d",
   "metadata": {},
   "outputs": [],
   "source": [
    "# model_path = \"trained_models/ecgnet_w4a4_model.pth\"\n",
    "# torch.save(model.state_dict(), model_path)"
   ]
  },
  {
   "cell_type": "code",
   "execution_count": null,
   "id": "e7bcbecd-b62c-4fb2-8d66-6569dbbfd604",
   "metadata": {},
   "outputs": [],
   "source": []
  },
  {
   "cell_type": "markdown",
   "id": "bd81893c-980b-4a3a-be7a-d812bd431e06",
   "metadata": {},
   "source": [
    "## Classify single image and measure time taken"
   ]
  },
  {
   "cell_type": "code",
   "execution_count": 3,
   "id": "81cecc3b-1630-4b40-ae15-8ecfcfaebdb3",
   "metadata": {
    "scrolled": true
   },
   "outputs": [
    {
     "name": "stdout",
     "output_type": "stream",
     "text": [
      "cpu\n"
     ]
    },
    {
     "data": {
      "text/plain": [
       "<All keys matched successfully>"
      ]
     },
     "execution_count": 3,
     "metadata": {},
     "output_type": "execute_result"
    }
   ],
   "source": [
    "#Device is CPU only for single image classification\n",
    "import torch\n",
    "device = torch.device(\"cpu\")\n",
    "print(device)\n",
    "model_path = \"trained_models/ecgnet_w4a4_model.pth\"\n",
    "model = ECGNet()\n",
    "model.to(device)\n",
    "model.load_state_dict(torch.load(model_path),strict = False)\n"
   ]
  },
  {
   "cell_type": "code",
   "execution_count": 4,
   "id": "85c1bf68-98c9-4cb4-9938-e34bb8e717d8",
   "metadata": {},
   "outputs": [
    {
     "data": {
      "image/png": "[encoded data removed]",
      "text/plain": [
       "<Figure size 300x300 with 1 Axes>"
      ]
     },
     "metadata": {},
     "output_type": "display_data"
    }
   ],
   "source": [
    "input_data = np.load(\"datasets/val_data/1/118_104895.npy\")\n",
    "input_data_1d = np.flip(input_data.squeeze(),axis=0)\n",
    "\n",
    "# Plot the data\n",
    "plt.figure(figsize=(3, 3))\n",
    "plt.plot(input_data_1d)\n",
    "plt.xlabel('Time')\n",
    "plt.ylabel('Amplitude')\n",
    "plt.title('Normal Sinus Rhythm')\n",
    "plt.grid(True)\n",
    "plt.show()"
   ]
  },
  {
   "cell_type": "code",
   "execution_count": 5,
   "id": "87caba3b-08a8-4ff2-aecc-dc69367362b9",
   "metadata": {},
   "outputs": [
    {
     "name": "stdout",
     "output_type": "stream",
     "text": [
      "Returned Normal Sinus Rhythm\n",
      "Inference time taken for single image on CPU: 0.0410 seconds\n"
     ]
    },
    {
     "name": "stderr",
     "output_type": "stream",
     "text": [
      "C:\\Users\\asrin\\AppData\\Local\\Packages\\PythonSoftwareFoundation.Python.3.10_qbz5n2kfra8p0\\LocalCache\\local-packages\\Python310\\site-packages\\torch\\_tensor.py:1394: UserWarning: Named tensors and all their associated APIs are an experimental feature and subject to change. Please do not use them for anything important until they are released as stable. (Triggered internally at ..\\c10/core/TensorImpl.h:1911.)\n",
      "  return super().rename(names)\n"
     ]
    }
   ],
   "source": [
    "import time\n",
    "\n",
    "model.eval() \n",
    "\n",
    "input_tensor = torch.from_numpy(input_data).float().unsqueeze(0)\n",
    "\n",
    "start_time = time.time()\n",
    "with torch.no_grad():\n",
    "    output = model(input_tensor)\n",
    "inference_time = time.time() - start_time\n",
    "\n",
    "if np.argmax(output[0]) == 1:\n",
    "    print(\"Returned Normal Sinus Rhythm\")\n",
    "else:\n",
    "    print(\"Wrong Prediction!!\")\n",
    "\n",
    "print(\"Inference time taken for single image on CPU: {:.4f} seconds\".format(inference_time))"
   ]
  },
  {
   "cell_type": "markdown",
   "id": "823bb2a8-2969-4b81-a7b1-1476cd9b08d5",
   "metadata": {},
   "source": [
    "## Validation Accuracy on CPU"
   ]
  },
  {
   "cell_type": "code",
   "execution_count": 6,
   "id": "9c5ed524-4dd1-46fc-87df-dedc05b38322",
   "metadata": {},
   "outputs": [
    {
     "name": "stdout",
     "output_type": "stream",
     "text": [
      "Validation Accuracy Score: 0.9407744874715261\n",
      "F1 Score: 0.9433688870707131\n"
     ]
    },
    {
     "data": {
      "image/png": "[encoded data removed]",
      "text/plain": [
       "<Figure size 400x400 with 2 Axes>"
      ]
     },
     "metadata": {},
     "output_type": "display_data"
    },
    {
     "name": "stdout",
     "output_type": "stream",
     "text": [
      "CPU times: total: 20.7 s\n",
      "Wall time: 7.4 s\n"
     ]
    }
   ],
   "source": [
    "%%time\n",
    "import torch\n",
    "from sklearn.metrics import accuracy_score, confusion_matrix, f1_score\n",
    "import seaborn as sns\n",
    "import matplotlib.pyplot as plt\n",
    "import numpy as np\n",
    "from torchvision import datasets\n",
    "\n",
    "\n",
    "def validate(model, validation_loader):\n",
    "    model.eval()\n",
    "    y_true = []\n",
    "    y_pred = []\n",
    "    with torch.no_grad():\n",
    "        for inputs, labels in validation_loader:\n",
    "            inputs, labels = inputs.to(device), labels.to(device)\n",
    "            outputs = model(inputs)\n",
    "            _, predicted = torch.max(outputs, 1)\n",
    "            y_true.extend(labels.cpu().numpy())\n",
    "            y_pred.extend(predicted.cpu().numpy())\n",
    "    return y_true, y_pred\n",
    "\n",
    "validation_transform = transforms.Compose([\n",
    "    transforms.RandomHorizontalFlip(),\n",
    "    transforms.ToTensor(),\n",
    "])\n",
    "\n",
    "class CustomDataset(Dataset):\n",
    "    def __init__(self, root_dir):\n",
    "        self.root_dir = root_dir\n",
    "        self.samples = []\n",
    "        self.labels = []\n",
    "        for label in os.listdir(root_dir):\n",
    "            label_dir = os.path.join(root_dir, label)\n",
    "            for file in os.listdir(label_dir):\n",
    "                file_path = os.path.join(label_dir, file)\n",
    "                self.samples.append(file_path)\n",
    "                self.labels.append(int(label))\n",
    "\n",
    "    def __len__(self):\n",
    "        return len(self.samples)\n",
    "\n",
    "    def __getitem__(self, idx):\n",
    "        sample = np.load(self.samples[idx])\n",
    "        # Assume the shape of sample is (1, 1, 128)\n",
    "        sample = np.squeeze(sample)  # Remove single-dimensional entries\n",
    "        sample = np.expand_dims(sample, axis=0)  # Add a dimension for the channel\n",
    "        sample = np.expand_dims(sample, axis=0)  # Add a dimension for the height (1)\n",
    "        sample = torch.from_numpy(sample).float()\n",
    "        label = self.labels[idx]\n",
    "        return sample, label\n",
    "\n",
    "\n",
    "validation_data = CustomDataset(root_dir=\"datasets/last_val_data/\")\n",
    "\n",
    "validation_dataloader = DataLoader(validation_data, batch_size=32, shuffle=True)\n",
    "\n",
    "\n",
    "y_true, y_pred = validate(model, validation_dataloader)\n",
    "\n",
    "\n",
    "accuracy = accuracy_score(y_true, y_pred)\n",
    "f1 = f1_score(y_true, y_pred, average='weighted')\n",
    "\n",
    "print(f'Validation Accuracy Score: {accuracy}')\n",
    "print(f'F1 Score: {f1}')\n",
    "\n",
    "class_names = ['arr','nsr']\n",
    "\n",
    "\n",
    "cm = confusion_matrix(y_true, y_pred)\n",
    "fig, ax = plt.subplots(figsize=(4, 4))\n",
    "sns.heatmap(cm, annot=True, fmt='d', cmap='Blues',xticklabels=class_names, yticklabels=class_names)\n",
    "plt.xlabel('Predicted Labels')\n",
    "plt.ylabel('True Labels')\n",
    "plt.title('Confusion Matrix')\n",
    "ax.xaxis.set_ticklabels(class_names, rotation=45)\n",
    "ax.yaxis.set_ticklabels(class_names, rotation=45)\n",
    "plt.show()\n"
   ]
  },
  {
   "cell_type": "markdown",
   "id": "9d630493-dacf-49f2-962f-c8d2fdec085b",
   "metadata": {},
   "source": [
    "## Total Time taken only to calculate validation accuracy on CPU"
   ]
  },
  {
   "cell_type": "code",
   "execution_count": null,
   "id": "a4ebe2c6-456f-4210-9f87-fd5ee974a379",
   "metadata": {},
   "outputs": [],
   "source": [
    "%%time\n",
    "#Only time taken on CPU\n",
    "y_true, y_pred = validate(model, validation_dataloader)\n",
    "\n",
    "# Calculate accuracy score and f1 score\n",
    "accuracy = accuracy_score(y_true, y_pred)\n",
    "f1 = f1_score(y_true, y_pred, average='weighted')\n",
    "\n",
    "# Print accuracy score and f1 score\n",
    "print(f'Validation Accuracy Score: {accuracy}')\n",
    "print(f'F1 Score: {f1}')"
   ]
  },
  {
   "cell_type": "markdown",
   "id": "d60992e4-01aa-4b65-aba2-d18de8d6686f",
   "metadata": {},
   "source": [
    "## Throughput and Latency Measurements"
   ]
  },
  {
   "cell_type": "code",
   "execution_count": 9,
   "id": "0ca850fc-4f26-4398-a045-28d2c8f32b37",
   "metadata": {},
   "outputs": [
    {
     "name": "stdout",
     "output_type": "stream",
     "text": [
      "CPU Latency: 0.01988598585128784 seconds\n",
      "CPU Throughput: 50.2866695912508 inferences per second\n"
     ]
    }
   ],
   "source": [
    "import torch\n",
    "import time\n",
    "\n",
    "\n",
    "input_size = (1,1,1,128)\n",
    "num_iterations = 100\n",
    "\n",
    "def benchmark_cpu(model, input_size):\n",
    "    model.eval()\n",
    "    input_data = torch.randn(input_size)\n",
    "    total_time = 0.0\n",
    "    for _ in range(num_iterations):\n",
    "        start_time = time.time()\n",
    "        with torch.no_grad():\n",
    "            _ = model(input_data)\n",
    "        end_time = time.time()\n",
    "        total_time += end_time - start_time\n",
    "    latency = total_time / num_iterations\n",
    "    throughput = num_iterations / total_time\n",
    "    return latency, throughput\n",
    "\n",
    "\n",
    "# Example usage\n",
    "cpu_latency, cpu_throughput = benchmark_cpu(model, input_size)\n",
    "\n",
    "# Print results\n",
    "print(\"CPU Latency:\", cpu_latency, \"seconds\")\n",
    "print(\"CPU Throughput:\", cpu_throughput, \"inferences per second\")\n",
    "\n"
   ]
  },
  {
   "cell_type": "code",
   "execution_count": null,
   "id": "6dca2525-dcf4-4227-a229-ee70877d7bd1",
   "metadata": {},
   "outputs": [],
   "source": []
  },
  {
   "cell_type": "code",
   "execution_count": null,
   "id": "5d7e4e1a-4c70-4ccf-bc2c-89eaa74769e9",
   "metadata": {},
   "outputs": [],
   "source": []
  }
 ],
 "metadata": {
  "kernelspec": {
   "display_name": "Python 3 (ipykernel)",
   "language": "python",
   "name": "python3"
  },
  "language_info": {
   "codemirror_mode": {
    "name": "ipython",
    "version": 3
   },
   "file_extension": ".py",
   "mimetype": "text/x-python",
   "name": "python",
   "nbconvert_exporter": "python",
   "pygments_lexer": "ipython3",
   "version": "3.10.11"
  }
 },
 "nbformat": 4,
 "nbformat_minor": 5
}
